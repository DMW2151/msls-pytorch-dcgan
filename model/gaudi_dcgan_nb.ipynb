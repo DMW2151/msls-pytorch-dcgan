{
 "cells": [
  {
   "cell_type": "markdown",
   "id": "6b9efa71",
   "metadata": {},
   "source": [
    "# DCGAN - SageMaker Training\n",
    "\n",
    "This notebook is a wrapper around `gaudi_dcgan.py` and is provided for those who might prefer\n",
    "to train on Sagemaker using a GPU instance (or those who have the determination to run a NB server \n",
    "on-top of a DL1 instance). \n",
    "\n",
    "This notebook does **NOT** take full advantage of the Gaudi accelerators and I would direct you to \n",
    "`run_gaudi_dcgan.py` for the fully-migrated training experience.\n",
    "\n",
    "**NOTE:** On Sagemaker either the `conda_amazonei_pytorch_latest_p37` (on `notebook-al2-v1`) OR `conda_amazonei_pytorch_latest_p36` (on `notebook-al1-v1`) kernels will be satisfactory for this notebook.\n",
    "\n",
    "-----------------"
   ]
  },
  {
   "cell_type": "code",
   "execution_count": 1,
   "id": "9bba2bd7",
   "metadata": {},
   "outputs": [],
   "source": [
    "%%capture\n",
    "! pip3 install \\\n",
    "    tensorboard \\\n",
    "    theano"
   ]
  },
  {
   "cell_type": "code",
   "execution_count": null,
   "id": "a849e09b",
   "metadata": {},
   "outputs": [],
   "source": [
    "# General Deps\n",
    "import os\n",
    "import numpy as np\n",
    "import matplotlib.pyplot as plt\n",
    "import torch.multiprocessing as mp\n",
    "\n",
    "# Torch Deps\n",
    "import torch\n",
    "import torchvision.datasets as dset\n",
    "import torchvision.transforms as transforms\n",
    "import torchvision.utils as vutils\n",
    "\n",
    "# DCGAN\n",
    "import gaudi_dcgan as dcgan"
   ]
  },
  {
   "cell_type": "markdown",
   "id": "7f999b78",
   "metadata": {},
   "source": [
    "## Data Loading & Transformations \n",
    "--------------"
   ]
  },
  {
   "cell_type": "code",
   "execution_count": null,
   "id": "49e6e22e",
   "metadata": {},
   "outputs": [],
   "source": [
    "# These objects (ALL of them) are usually created + configured via CLI args passed to `run_dcgan_gaudi.py`.\n",
    "# only here for demonstration\n",
    "\n",
    "# Init Model and Training Configs w. Default Values - See gaudi_dcgan.py for descriptions. For clarity,\n",
    "# objects below are initialized with their default values.\n",
    "model_cfg = dcgan.ModelCheckpointConfig(\n",
    "    model_name=\"p3_2xl_sagemaker\",  # Custom Model Name To Identify Gaudi vs GPU Trained!\n",
    "    model_dir=\"/efs/trained_model\",\n",
    "    save_frequency=1,\n",
    "    log_frequency=50,\n",
    "    gen_progress_frequency=250,\n",
    ")\n",
    "\n",
    "train_cfg = dcgan.TrainingConfig(\n",
    "    dev = torch.device(\"cuda\"), ## For illustrative purposes. Again, please train on EC2.\n",
    "    data_root=\"/efs/imgs/test\",\n",
    "    batch_size=128,\n",
    "    img_size=64,\n",
    "    nc=3,\n",
    "    nz=100,\n",
    "    ngf=64,\n",
    "    ndf=64,\n",
    "    lr=0.0002,\n",
    "    beta1=0.5,\n",
    "    beta2=0.999\n",
    ")\n",
    "\n",
    "# In general, the ImageFolder/Dataloader reads from the directory of images and applys a transformation\n",
    "# at runtime to generate our training images. See `Data and Transformations` section for details.\n",
    "dataset = dset.ImageFolder(\n",
    "    root=\"/efs/imgs/test\",\n",
    "    transform=transforms.Compose(\n",
    "        [\n",
    "            transforms.RandomAffine(degrees=0, translate=(0.3, 0.0)),\n",
    "            transforms.CenterCrop(64 * 4),\n",
    "            transforms.Resize(64),\n",
    "            transforms.ToTensor(),\n",
    "            transforms.Normalize((0.485, 0.456, 0.406), (0.229, 0.224, 0.225)),\n",
    "        ]\n",
    "    ),\n",
    ")\n",
    "\n",
    "# The Habana analog to Pytorch's DataLoader can be more efficient under specific conditions. Here, we \n",
    "# create the dataloader with *similar* params to those that would cause the ht.DataLoader() to use \n",
    "# acceleration. NOTE: This step can be slow if images are processed from EFS (see note on using EBS);\n",
    "dataloader = torch.utils.data.DataLoader(\n",
    "    dataset,\n",
    "    shuffle=False,\n",
    "    num_workers=4,\n",
    "    pin_memory=True,\n",
    "    timeout=0,\n",
    "    batch_size=train_cfg.batch_size,\n",
    ")"
   ]
  },
  {
   "cell_type": "code",
   "execution_count": null,
   "id": "86295448",
   "metadata": {},
   "outputs": [],
   "source": [
    "# Check that the dset.ImageFolder && data.DataLoader are correct and the training data look OK\n",
    "real_batch = next(iter(dataloader))\n",
    "\n",
    "plt.figure(figsize=(16, 16))\n",
    "plt.axis(\"off\")\n",
    "plt.title(\"Training Images\")\n",
    "\n",
    "# Plot and Save Sample Training Images\n",
    "grid = vutils.make_grid(\n",
    "        real_batch[0].to(train_cfg.dev)[:16], \n",
    "        padding=2,\n",
    "        normalize=True\n",
    "        ).cpu()\n",
    "\n",
    "plt.imshow(\n",
    "    np.transpose(grid, (1, 2, 0))\n",
    ")\n",
    "\n",
    "# Create Figures && Events Directory if Not Yet Exists\n",
    "if not os.path.exists(f\"{model_cfg.model_dir}/{model_cfg.model_name}/figures\"):\n",
    "    os.makedirs(f\"{model_cfg.model_dir}/{model_cfg.model_name}/figures\")\n",
    "    \n",
    "if not os.path.exists(f\"{model_cfg.model_dir}/{model_cfg.model_name}/events\"):\n",
    "    os.makedirs(f\"{model_cfg.model_dir}/{model_cfg.model_name}/events\")\n",
    "\n",
    "# Save to Disk    \n",
    "plt.savefig(f\"{model_cfg.model_dir}/{model_cfg.model_name}/figures/train_samples.png\")"
   ]
  },
  {
   "cell_type": "markdown",
   "id": "601238da",
   "metadata": {},
   "source": [
    "## Model Training \n",
    "----------------------------"
   ]
  },
  {
   "cell_type": "code",
   "execution_count": null,
   "id": "429ec787",
   "metadata": {},
   "outputs": [],
   "source": [
    "#$ Set some params...\n",
    "TOTAL_NUM_EPOCHS = 16\n",
    "START_EPOCH = 0\n",
    "ENABLE_PROFILING = False\n",
    "ENABLE_LOGGING = True\n",
    "\n",
    "# Train the Model - Refer to documentation on `dcgan.start_or_resume_training_run` for details\n",
    "mp.spawn(\n",
    "        dcgan.start_or_resume_training_run,\n",
    "        nprocs=torch.cuda.device_count(),\n",
    "        args=(\n",
    "            train_cfg,\n",
    "            model_cfg,\n",
    "            TOTAL_NUM_EPOCHS,\n",
    "            START_EPOCH,\n",
    "            ENABLE_PROFILING,\n",
    "            ENABLE_LOGGING,\n",
    "        ),\n",
    "        join=True\n",
    ")"
   ]
  }
 ],
 "metadata": {
  "kernelspec": {
   "display_name": "Python 3 (ipykernel)",
   "language": "python",
   "name": "python3"
  },
  "language_info": {
   "codemirror_mode": {
    "name": "ipython",
    "version": 3
   },
   "file_extension": ".py",
   "mimetype": "text/x-python",
   "name": "python",
   "nbconvert_exporter": "python",
   "pygments_lexer": "ipython3",
   "version": "3.9.2"
  }
 },
 "nbformat": 4,
 "nbformat_minor": 5
}
