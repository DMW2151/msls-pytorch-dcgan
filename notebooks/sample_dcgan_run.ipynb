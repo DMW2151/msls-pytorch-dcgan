{
 "cells": [
  {
   "cell_type": "markdown",
   "id": "6b9efa71",
   "metadata": {},
   "source": [
    "# DCGAN - SageMaker Training\n",
    "\n",
    "This notebook is a wrapper around `run_dcgan.py` and is provided for those who might prefer\n",
    "to test training on Sagemaker. This notebook does **NOT** take full advantage of the Gaudi accelerators and I would direct you to refer to the docs on for the fully-migrated training experience on `DL1` instances.\n",
    "\n",
    "**WARNING:** On Sagemaker neither the `conda_amazonei_pytorch_latest_p37` (on `notebook-al2-v1`) OR `conda_amazonei_pytorch_latest_p36` (on `notebook-al1-v1`) kernels will be satisfactory for this notebook. **<mark>Please use the base conda_python3 environment and install the module's dependencies with the cell below!</mark>**\n",
    "\n",
    "-----------------"
   ]
  },
  {
   "cell_type": "code",
   "execution_count": 1,
   "id": "9bba2bd7",
   "metadata": {},
   "outputs": [],
   "source": [
    "%%capture\n",
    "! pip3 install \\\n",
    "    ./../model \\\n",
    "    ffmpeg"
   ]
  },
  {
   "cell_type": "code",
   "execution_count": null,
   "id": "a849e09b",
   "metadata": {},
   "outputs": [],
   "source": [
    "# General Deps\n",
    "import numpy as np\n",
    "import matplotlib.pyplot as plt\n",
    "import torch.multiprocessing as mp\n",
    "\n",
    "# Torch Deps\n",
    "import torch\n",
    "import torchvision\n",
    "import torchvision.utils as vutils\n",
    "\n",
    "# DCGAN\n",
    "import msls.gpu_dcgan as dcgan\n",
    "import msls.dcgan_utils as utils"
   ]
  },
  {
   "cell_type": "code",
   "execution_count": 1,
   "id": "01007574",
   "metadata": {},
   "outputs": [],
   "source": [
    "## Set Training Params...\n",
    "TOTAL_NUM_EPOCHS = 16\n",
    "START_EPOCH = 0\n",
    "ENABLE_PROFILING = False\n",
    "ENABLE_LOGGING = True"
   ]
  },
  {
   "cell_type": "markdown",
   "id": "7f999b78",
   "metadata": {},
   "source": [
    "## Data Loading & Transformations \n",
    "--------------"
   ]
  },
  {
   "cell_type": "code",
   "execution_count": null,
   "id": "49e6e22e",
   "metadata": {},
   "outputs": [],
   "source": [
    "# Init Model and Training Configs w. Default Values - See gaudi_dcgan.py and dcgan_utils.py \n",
    "# for descriptions.\n",
    "model_cfg = utils.ModelCheckpointConfig(\n",
    "    name=\"sagemaker_demo_model\",  # Custom Model Name To Identify Gaudi vs GPU Trained!\n",
    "    root=\"/efs/trained_model\",\n",
    "    save_frequency=1,\n",
    "    log_frequency=50,\n",
    ")\n",
    "\n",
    "train_cfg = utils.TrainingConfig(\n",
    "    dev=torch.device(\"cuda\"),  ## For illustrative purposes. Again, please train on EC2.\n",
    "    data_root=\"/efs/imgs/train_val/zurich/\",\n",
    ")\n",
    "\n",
    "# Initialize dataloader from the training config...\n",
    "dataloader = dcgan.get_msls_dataloader(0, train_cfg)"
   ]
  },
  {
   "cell_type": "code",
   "execution_count": null,
   "id": "86295448",
   "metadata": {},
   "outputs": [],
   "source": [
    "# Now we check that the data.DataLoader is correct and the training data look OK w. the\n",
    "# default transforms applied...\n",
    "real_batch = next(iter(dataloader))\n",
    "\n",
    "plt.figure(figsize=(16, 16))\n",
    "plt.axis(\"off\")\n",
    "plt.title(\"Training Images\")\n",
    "\n",
    "# Plot and Save Sample Training Images\n",
    "grid = vutils.make_grid(\n",
    "    real_batch[0].to(train_cfg.dev)[:16], \n",
    "    padding=2,\n",
    "    normalize=True\n",
    ").cpu()\n",
    "\n",
    "plt.imshow(\n",
    "    np.transpose(grid, (1, 2, 0))\n",
    ")"
   ]
  },
  {
   "cell_type": "markdown",
   "id": "601238da",
   "metadata": {},
   "source": [
    "## Model Training \n",
    "----------------------------"
   ]
  },
  {
   "cell_type": "code",
   "execution_count": null,
   "id": "429ec787",
   "metadata": {},
   "outputs": [],
   "source": [
    "# Train the Model - Refer to documentation on `dcgan.start_or_resume_training_run` for details\n",
    "mp.spawn(\n",
    "    dcgan.start_or_resume_training_run,\n",
    "    nprocs=torch.cuda.device_count(),\n",
    "    args=(\n",
    "        train_cfg,\n",
    "        model_cfg,\n",
    "        TOTAL_NUM_EPOCHS,\n",
    "        START_EPOCH,\n",
    "        ENABLE_PROFILING,\n",
    "        ENABLE_LOGGING,\n",
    "    ),\n",
    "    join=True\n",
    ")"
   ]
  }
 ],
 "metadata": {
  "kernelspec": {
   "display_name": "Python 3 (ipykernel)",
   "language": "python",
   "name": "python3"
  },
  "language_info": {
   "codemirror_mode": {
    "name": "ipython",
    "version": 3
   },
   "file_extension": ".py",
   "mimetype": "text/x-python",
   "name": "python",
   "nbconvert_exporter": "python",
   "pygments_lexer": "ipython3",
   "version": "3.9.2"
  }
 },
 "nbformat": 4,
 "nbformat_minor": 5
}
